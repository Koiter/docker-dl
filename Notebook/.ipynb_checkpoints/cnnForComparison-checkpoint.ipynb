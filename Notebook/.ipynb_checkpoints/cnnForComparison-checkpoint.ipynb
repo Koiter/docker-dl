{
 "cells": [
  {
   "cell_type": "code",
   "execution_count": 4,
   "metadata": {},
   "outputs": [
    {
     "data": {
      "text/plain": [
       "'1.13.1'"
      ]
     },
     "execution_count": 4,
     "metadata": {},
     "output_type": "execute_result"
    }
   ],
   "source": [
    "from __future__ import absolute_import, division, print_function\n",
    "\n",
    "from matplotlib import pyplot as plt\n",
    "\n",
    "import tensorflow as tf\n",
    "import tensorflow_hub as hub\n",
    "import os\n",
    "\n",
    "from tensorflow.keras import layers\n",
    "from tensorflow.keras import optimizers\n",
    "\n",
    "import pandas as pd\n",
    "import numpy as np\n",
    "\n",
    "tf.VERSION"
   ]
  },
  {
   "cell_type": "code",
   "execution_count": 5,
   "metadata": {},
   "outputs": [
    {
     "name": "stdout",
     "output_type": "stream",
     "text": [
      "Found 3303 images belonging to 5 classes.\n",
      "Found 367 images belonging to 5 classes.\n",
      "Image batch shape:  (32, 256, 256, 3)\n",
      "Labe batch shape:  (32, 5)\n"
     ]
    }
   ],
   "source": [
    "image_generator = tf.keras.preprocessing.image.ImageDataGenerator(rescale=1/255)\n",
    "train_data = image_generator.flow_from_directory(\"flower_photos\")\n",
    "validation_data = image_generator.flow_from_directory(\"flower_photos_test\")\n",
    "\n",
    "for image_batch,label_batch in train_data:\n",
    "  print(\"Image batch shape: \", image_batch.shape)\n",
    "  print(\"Labe batch shape: \", label_batch.shape)\n",
    "  break"
   ]
  },
  {
   "cell_type": "code",
   "execution_count": 6,
   "metadata": {},
   "outputs": [
    {
     "ename": "NameError",
     "evalue": "name 'data_root' is not defined",
     "output_type": "error",
     "traceback": [
      "\u001b[0;31m---------------------------------------------------------------------------\u001b[0m",
      "\u001b[0;31mNameError\u001b[0m                                 Traceback (most recent call last)",
      "\u001b[0;32m<ipython-input-6-88bdc2873f03>\u001b[0m in \u001b[0;36m<module>\u001b[0;34m\u001b[0m\n\u001b[0;32m----> 1\u001b[0;31m \u001b[0mos\u001b[0m\u001b[0;34m.\u001b[0m\u001b[0mlistdir\u001b[0m\u001b[0;34m(\u001b[0m\u001b[0mdata_root\u001b[0m\u001b[0;34m)\u001b[0m\u001b[0;34m\u001b[0m\u001b[0;34m\u001b[0m\u001b[0m\n\u001b[0m",
      "\u001b[0;31mNameError\u001b[0m: name 'data_root' is not defined"
     ]
    }
   ],
   "source": [
    "os.listdir(data_root)"
   ]
  },
  {
   "cell_type": "markdown",
   "metadata": {},
   "source": [
    "# Model Defintions"
   ]
  },
  {
   "cell_type": "code",
   "execution_count": 8,
   "metadata": {},
   "outputs": [
    {
     "name": "stdout",
     "output_type": "stream",
     "text": [
      "WARNING:tensorflow:From /opt/conda/lib/python3.7/site-packages/tensorflow/python/ops/resource_variable_ops.py:435: colocate_with (from tensorflow.python.framework.ops) is deprecated and will be removed in a future version.\n",
      "Instructions for updating:\n",
      "Colocations handled automatically by placer.\n"
     ]
    },
    {
     "name": "stderr",
     "output_type": "stream",
     "text": [
      "W0514 10:04:53.209449 140104706795328 deprecation.py:323] From /opt/conda/lib/python3.7/site-packages/tensorflow/python/ops/resource_variable_ops.py:435: colocate_with (from tensorflow.python.framework.ops) is deprecated and will be removed in a future version.\n",
      "Instructions for updating:\n",
      "Colocations handled automatically by placer.\n"
     ]
    }
   ],
   "source": [
    "# CNN 2\n",
    "model = tf.keras.Sequential([\n",
    "  layers.Conv2D(32, [3, 3], (1, 1), 'valid', input_shape=(image_batch.shape[1], image_batch.shape[2], image_batch.shape[3])),\n",
    "  layers.Activation('relu'),\n",
    "  # layers.LeakyReLU(alpha=0.3),\n",
    "  layers.MaxPooling2D(pool_size=(2 , 2)),\n",
    "  \n",
    "  layers.Conv2D(64, [3, 3], (1, 1), 'valid'),\n",
    "  layers.Activation('relu'),\n",
    "  # layers.LeakyReLU(alpha=0.3),\n",
    "  layers.MaxPooling2D(pool_size=(2 , 2)),\n",
    "    \n",
    "  layers.Conv2D(128, [3, 3], (1, 1), 'valid'),\n",
    "  layers.Activation('relu'),\n",
    "  # layers.LeakyReLU(alpha=0.3),\n",
    "  layers.Flatten(),\n",
    "    \n",
    "  layers.Dense(train_data.num_classes, activation='softmax')\n",
    "])"
   ]
  },
  {
   "cell_type": "markdown",
   "metadata": {},
   "source": [
    "# Model Compilations"
   ]
  },
  {
   "cell_type": "code",
   "execution_count": 9,
   "metadata": {},
   "outputs": [
    {
     "name": "stdout",
     "output_type": "stream",
     "text": [
      "WARNING:tensorflow:From /opt/conda/lib/python3.7/site-packages/tensorflow/python/keras/utils/losses_utils.py:170: to_float (from tensorflow.python.ops.math_ops) is deprecated and will be removed in a future version.\n",
      "Instructions for updating:\n",
      "Use tf.cast instead.\n"
     ]
    },
    {
     "name": "stderr",
     "output_type": "stream",
     "text": [
      "W0514 10:04:55.150245 140104706795328 deprecation.py:323] From /opt/conda/lib/python3.7/site-packages/tensorflow/python/keras/utils/losses_utils.py:170: to_float (from tensorflow.python.ops.math_ops) is deprecated and will be removed in a future version.\n",
      "Instructions for updating:\n",
      "Use tf.cast instead.\n"
     ]
    }
   ],
   "source": [
    "model.compile(\n",
    "  optimizer=tf.train.AdamOptimizer(), \n",
    "  loss='categorical_crossentropy',\n",
    "  # loss='mean_squared_error',\n",
    "  metrics=['accuracy'])"
   ]
  },
  {
   "cell_type": "code",
   "execution_count": 37,
   "metadata": {},
   "outputs": [],
   "source": [
    "sgd = optimizers.SGD(lr=0.01, decay=1e-6, momentum=0.9, nesterov=True)\n",
    "model.compile(\n",
    "  optimizer=sgd, \n",
    "  # loss='categorical_crossentropy',\n",
    "  loss='mean_squared_error',\n",
    "  metrics=['accuracy'])"
   ]
  },
  {
   "cell_type": "code",
   "execution_count": 10,
   "metadata": {},
   "outputs": [],
   "source": [
    "class CollectBatchStats(tf.keras.callbacks.Callback):\n",
    "  def __init__(self):\n",
    "    self.batch_losses = []\n",
    "    self.batch_acc = []\n",
    "    self.epoch_val_loss = []\n",
    "    self.epoch_val_acc = []\n",
    "    \n",
    "  def on_batch_end(self, batch, logs=None):\n",
    "    self.batch_losses.append(logs['loss'])\n",
    "    self.batch_acc.append(logs['acc'])\n",
    "  def on_epoch_end(self, epoch, logs=None):\n",
    "    self.epoch_val_loss.append(logs['val_loss'])\n",
    "    self.epoch_val_acc.append(logs['val_acc'])"
   ]
  },
  {
   "cell_type": "code",
   "execution_count": 12,
   "metadata": {},
   "outputs": [
    {
     "name": "stdout",
     "output_type": "stream",
     "text": [
      "WARNING:tensorflow:From /opt/conda/lib/python3.7/site-packages/tensorflow/python/ops/math_ops.py:3066: to_int32 (from tensorflow.python.ops.math_ops) is deprecated and will be removed in a future version.\n",
      "Instructions for updating:\n",
      "Use tf.cast instead.\n"
     ]
    },
    {
     "name": "stderr",
     "output_type": "stream",
     "text": [
      "W0514 10:05:09.476614 140104706795328 deprecation.py:323] From /opt/conda/lib/python3.7/site-packages/tensorflow/python/ops/math_ops.py:3066: to_int32 (from tensorflow.python.ops.math_ops) is deprecated and will be removed in a future version.\n",
      "Instructions for updating:\n",
      "Use tf.cast instead.\n"
     ]
    },
    {
     "name": "stdout",
     "output_type": "stream",
     "text": [
      "Epoch 1/4\n",
      "12/12 [==============================] - 32s 3s/step - loss: 0.2691 - acc: 0.3161\n",
      "104/104 [==============================] - 894s 9s/step - loss: 0.2794 - acc: 0.2876 - val_loss: 0.2691 - val_acc: 0.3161\n",
      "Epoch 2/4\n",
      "12/12 [==============================] - 39s 3s/step - loss: 0.3286 - acc: 0.1744\n",
      "104/104 [==============================] - 865s 8s/step - loss: 0.3130 - acc: 0.2150 - val_loss: 0.3286 - val_acc: 0.1744\n",
      "Epoch 3/4\n",
      "12/12 [==============================] - 28s 2s/step - loss: 0.3322 - acc: 0.1744\n",
      "104/104 [==============================] - 865s 8s/step - loss: 0.3302 - acc: 0.1747 - val_loss: 0.3322 - val_acc: 0.1744\n",
      "Epoch 4/4\n",
      "12/12 [==============================] - 31s 3s/step - loss: 0.3298 - acc: 0.1744\n",
      "104/104 [==============================] - 861s 8s/step - loss: 0.3306 - acc: 0.1747 - val_loss: 0.3298 - val_acc: 0.1744\n"
     ]
    },
    {
     "data": {
      "text/plain": [
       "'\\nsteps_per_epoch = image_data.samples//image_data.batch_size\\nbatch_stats = CollectBatchStats()\\ntrainHistory = model.fit(image_data, epochs=2, \\n                    callbacks = [batch_stats],\\n                     validation_split=0.1)\\n'"
      ]
     },
     "execution_count": 12,
     "metadata": {},
     "output_type": "execute_result"
    }
   ],
   "source": [
    "# steps_per_epoch = image_data.samples//image_data.batch_size\n",
    "batch_stats = CollectBatchStats()\n",
    "trainHistory = model.fit_generator(train_data, epochs=4, \n",
    "                    callbacks = [batch_stats],\n",
    "                     validation_data = validation_data)\n",
    "'''\n",
    "steps_per_epoch = image_data.samples//image_data.batch_size\n",
    "batch_stats = CollectBatchStats()\n",
    "trainHistory = model.fit(image_data, epochs=2, \n",
    "                    callbacks = [batch_stats],\n",
    "                     validation_split=0.1)\n",
    "'''"
   ]
  },
  {
   "cell_type": "code",
   "execution_count": 13,
   "metadata": {},
   "outputs": [
    {
     "data": {
      "text/plain": [
       "[<matplotlib.lines.Line2D at 0x7f6c6f24c6d8>]"
      ]
     },
     "execution_count": 13,
     "metadata": {},
     "output_type": "execute_result"
    },
    {
     "data": {
      "image/png": "[encoded data removed]",
      "text/plain": [
       "<Figure size 432x288 with 1 Axes>"
      ]
     },
     "metadata": {
      "needs_background": "light"
     },
     "output_type": "display_data"
    },
    {
     "data": {
      "image/png": "[encoded data removed]",
      "text/plain": [
       "<Figure size 432x288 with 1 Axes>"
      ]
     },
     "metadata": {
      "needs_background": "light"
     },
     "output_type": "display_data"
    },
    {
     "data": {
      "image/png": "[encoded data removed]",
      "text/plain": [
       "<Figure size 432x288 with 1 Axes>"
      ]
     },
     "metadata": {
      "needs_background": "light"
     },
     "output_type": "display_data"
    },
    {
     "data": {
      "image/png": "[encoded data removed]",
      "text/plain": [
       "<Figure size 432x288 with 1 Axes>"
      ]
     },
     "metadata": {
      "needs_background": "light"
     },
     "output_type": "display_data"
    }
   ],
   "source": [
    "plt.figure()\n",
    "plt.ylabel(\"Loss\")\n",
    "plt.xlabel(\"Training Steps\")\n",
    "plt.ylim([0,2])\n",
    "plt.plot(batch_stats.batch_losses)\n",
    "\n",
    "plt.figure()\n",
    "plt.ylabel(\"Accuracy\")\n",
    "plt.xlabel(\"Training Steps\")\n",
    "plt.ylim([0,1])\n",
    "plt.plot(batch_stats.batch_acc)\n",
    "\n",
    "plt.figure()\n",
    "plt.ylabel(\"Loss\")\n",
    "plt.xlabel(\"Epochs\")\n",
    "plt.ylim([0,2])\n",
    "plt.plot(trainHistory.history['loss'])\n",
    "\n",
    "plt.figure()\n",
    "plt.ylabel(\"Accuracy\")\n",
    "plt.xlabel(\"Epochs\")\n",
    "plt.ylim([0,1])\n",
    "plt.plot(trainHistory.history['acc'])"
   ]
  },
  {
   "cell_type": "markdown",
   "metadata": {},
   "source": [
    "## Saving the data (loss and accuracy) so I can make plots and compare models -C"
   ]
  },
  {
   "cell_type": "markdown",
   "metadata": {},
   "source": [
    "Keep in mind you'll overwrite previous data if you do not rename the file."
   ]
  },
  {
   "cell_type": "code",
   "execution_count": 14,
   "metadata": {},
   "outputs": [],
   "source": [
    "results = pd.DataFrame({\"losses\":batch_stats.batch_losses, \"accuracy\":batch_stats.batch_acc})\n",
    "results.to_csv(\"saved_results/someData.csv\", ',')\n",
    "results = pd.DataFrame({\"losses\":batch_stats.epoch_val_loss, \"accuracy\":batch_stats.epoch_val_acc})\n",
    "results.to_csv(\"saved_results/someValData.csv\", ',')"
   ]
  },
  {
   "cell_type": "code",
   "execution_count": null,
   "metadata": {},
   "outputs": [],
   "source": []
  }
 ],
 "metadata": {
  "kernelspec": {
   "display_name": "Python 3",
   "language": "python",
   "name": "python3"
  },
  "language_info": {
   "codemirror_mode": {
    "name": "ipython",
    "version": 3
   },
   "file_extension": ".py",
   "mimetype": "text/x-python",
   "name": "python",
   "nbconvert_exporter": "python",
   "pygments_lexer": "ipython3",
   "version": "3.7.3"
  }
 },
 "nbformat": 4,
 "nbformat_minor": 2
}
