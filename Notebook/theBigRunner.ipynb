{
 "cells": [
  {
   "cell_type": "code",
   "execution_count": null,
   "metadata": {},
   "outputs": [
    {
     "name": "stderr",
     "output_type": "stream",
     "text": [
      "WARNING: Logging before flag parsing goes to stderr.\n",
      "W0515 11:34:02.326097 140061927892800 __init__.py:56] Some hub symbols are not available because TensorFlow version is less than 1.14\n"
     ]
    },
    {
     "name": "stdout",
     "output_type": "stream",
     "text": [
      "Found 3303 images belonging to 5 classes.\n",
      "Found 367 images belonging to 5 classes.\n",
      "Image batch shape:  (32, 256, 256, 3)\n",
      "Labe batch shape:  (32, 5)\n",
      "WARNING:tensorflow:From /opt/conda/lib/python3.7/site-packages/tensorflow/python/ops/resource_variable_ops.py:435: colocate_with (from tensorflow.python.framework.ops) is deprecated and will be removed in a future version.\n",
      "Instructions for updating:\n",
      "Colocations handled automatically by placer.\n"
     ]
    },
    {
     "name": "stderr",
     "output_type": "stream",
     "text": [
      "W0515 11:34:03.740329 140061927892800 deprecation.py:323] From /opt/conda/lib/python3.7/site-packages/tensorflow/python/ops/resource_variable_ops.py:435: colocate_with (from tensorflow.python.framework.ops) is deprecated and will be removed in a future version.\n",
      "Instructions for updating:\n",
      "Colocations handled automatically by placer.\n"
     ]
    },
    {
     "name": "stdout",
     "output_type": "stream",
     "text": [
      "WARNING:tensorflow:From /opt/conda/lib/python3.7/site-packages/tensorflow/python/keras/utils/losses_utils.py:170: to_float (from tensorflow.python.ops.math_ops) is deprecated and will be removed in a future version.\n",
      "Instructions for updating:\n",
      "Use tf.cast instead.\n"
     ]
    },
    {
     "name": "stderr",
     "output_type": "stream",
     "text": [
      "W0515 11:34:03.943371 140061927892800 deprecation.py:323] From /opt/conda/lib/python3.7/site-packages/tensorflow/python/keras/utils/losses_utils.py:170: to_float (from tensorflow.python.ops.math_ops) is deprecated and will be removed in a future version.\n",
      "Instructions for updating:\n",
      "Use tf.cast instead.\n"
     ]
    },
    {
     "name": "stdout",
     "output_type": "stream",
     "text": [
      "WARNING:tensorflow:From /opt/conda/lib/python3.7/site-packages/tensorflow/python/ops/math_ops.py:3066: to_int32 (from tensorflow.python.ops.math_ops) is deprecated and will be removed in a future version.\n",
      "Instructions for updating:\n",
      "Use tf.cast instead.\n"
     ]
    },
    {
     "name": "stderr",
     "output_type": "stream",
     "text": [
      "W0515 11:34:04.120528 140061927892800 deprecation.py:323] From /opt/conda/lib/python3.7/site-packages/tensorflow/python/ops/math_ops.py:3066: to_int32 (from tensorflow.python.ops.math_ops) is deprecated and will be removed in a future version.\n",
      "Instructions for updating:\n",
      "Use tf.cast instead.\n"
     ]
    },
    {
     "name": "stdout",
     "output_type": "stream",
     "text": [
      "Epoch 1/4\n",
      "12/12 [==============================] - 38s 3s/step - loss: 0.3308 - acc: 0.1717\n",
      "104/104 [==============================] - 787s 8s/step - loss: 0.3287 - acc: 0.1738 - val_loss: 0.3308 - val_acc: 0.1717\n",
      "Epoch 2/4\n",
      "12/12 [==============================] - 47s 4s/step - loss: 0.3320 - acc: 0.1717\n",
      "104/104 [==============================] - 844s 8s/step - loss: 0.3306 - acc: 0.1726 - val_loss: 0.3320 - val_acc: 0.1717\n",
      "Epoch 3/4\n",
      "12/12 [==============================] - 36s 3s/step - loss: 0.3320 - acc: 0.1717\n",
      "104/104 [==============================] - 762s 7s/step - loss: 0.3315 - acc: 0.1726 - val_loss: 0.3320 - val_acc: 0.1717\n",
      "Epoch 4/4\n",
      "12/12 [==============================] - 34s 3s/step - loss: 0.3308 - acc: 0.1717\n",
      "104/104 [==============================] - 829s 8s/step - loss: 0.3311 - acc: 0.1726 - val_loss: 0.3308 - val_acc: 0.1717\n",
      "Epoch 1/4\n",
      "12/12 [==============================] - 35s 3s/step - loss: 1.2531 - acc: 0.5204\n",
      "104/104 [==============================] - 797s 8s/step - loss: 1.5099 - acc: 0.4329 - val_loss: 1.2531 - val_acc: 0.5204\n",
      "Epoch 2/4\n",
      "12/12 [==============================] - 37s 3s/step - loss: 1.2000 - acc: 0.5313\n",
      "104/104 [==============================] - 802s 8s/step - loss: 0.9896 - acc: 0.6225 - val_loss: 1.2000 - val_acc: 0.5313\n",
      "Epoch 3/4\n",
      "12/12 [==============================] - 34s 3s/step - loss: 1.2233 - acc: 0.5831\n",
      "104/104 [==============================] - 829s 8s/step - loss: 0.6959 - acc: 0.7466 - val_loss: 1.2233 - val_acc: 0.5831\n",
      "Epoch 4/4\n",
      "12/12 [==============================] - 41s 3s/step - loss: 1.5467 - acc: 0.5450\n",
      "104/104 [==============================] - 853s 8s/step - loss: 0.3758 - acc: 0.8771 - val_loss: 1.5467 - val_acc: 0.5450\n",
      "Epoch 1/4\n",
      "12/12 [==============================] - 40s 3s/step - loss: 0.1231 - acc: 0.5422\n",
      "104/104 [==============================] - 845s 8s/step - loss: 0.1537 - acc: 0.3745 - val_loss: 0.1231 - val_acc: 0.5422\n",
      "Epoch 2/4\n",
      "12/12 [==============================] - 44s 4s/step - loss: 0.1069 - acc: 0.6322\n",
      "104/104 [==============================] - 835s 8s/step - loss: 0.1152 - acc: 0.5695 - val_loss: 0.1069 - val_acc: 0.6322\n",
      "Epoch 3/4\n",
      "12/12 [==============================] - 39s 3s/step - loss: 0.1066 - acc: 0.6240\n",
      "104/104 [==============================] - 840s 8s/step - loss: 0.0897 - acc: 0.6782 - val_loss: 0.1066 - val_acc: 0.6240\n",
      "Epoch 4/4\n",
      "103/104 [============================>.] - ETA: 7s - loss: 0.0610 - acc: 0.7933 "
     ]
    }
   ],
   "source": [
    "from __future__ import absolute_import, division, print_function\n",
    "\n",
    "from matplotlib import pyplot as plt\n",
    "\n",
    "import tensorflow as tf\n",
    "import tensorflow_hub as hub\n",
    "import os\n",
    "\n",
    "from tensorflow.keras import layers\n",
    "from tensorflow.keras import optimizers\n",
    "\n",
    "import pandas as pd\n",
    "import numpy as np\n",
    "\n",
    "tf.VERSION\n",
    "\n",
    "image_generator = tf.keras.preprocessing.image.ImageDataGenerator(rescale=1/255)\n",
    "train_data = image_generator.flow_from_directory(\"flower_photos\")\n",
    "validation_data = image_generator.flow_from_directory(\"flower_photos_test\")\n",
    "\n",
    "for image_batch,label_batch in train_data:\n",
    "  print(\"Image batch shape: \", image_batch.shape)\n",
    "  print(\"Labe batch shape: \", label_batch.shape)\n",
    "  break\n",
    "\n",
    "class CollectBatchStats(tf.keras.callbacks.Callback):\n",
    "  def __init__(self):\n",
    "    self.batch_losses = []\n",
    "    self.batch_acc = []\n",
    "    self.epoch_val_loss = []\n",
    "    self.epoch_val_acc = []\n",
    "    \n",
    "  def on_batch_end(self, batch, logs=None):\n",
    "    self.batch_losses.append(logs['loss'])\n",
    "    self.batch_acc.append(logs['acc'])\n",
    "  def on_epoch_end(self, epoch, logs=None):\n",
    "    self.epoch_val_loss.append(logs['val_loss'])\n",
    "    self.epoch_val_acc.append(logs['val_acc'])\n",
    "\n",
    "runs = [2, 3]\n",
    "activation = [0, 0, 1, 1, 2, 2]\n",
    "lossF = ['categorical_crossentropy', 'mean_squared_error', 'categorical_crossentropy', 'mean_squared_error', 'categorical_crossentropy', 'mean_squared_error']\n",
    "saveName = ['Tanh', 'MSETanh', 'RELU', 'MSERELU', 'LeakyRELU', 'MSELeakyRELU']\n",
    "\n",
    "for id in runs:\n",
    "    model = None\n",
    "    if (activation[id] == 0):\n",
    "        # CNN 2\n",
    "        model = tf.keras.Sequential([\n",
    "          layers.Conv2D(32, [3, 3], (1, 1), 'valid', input_shape=(image_batch.shape[1], image_batch.shape[2], image_batch.shape[3])),\n",
    "          layers.Activation('tanh'),\n",
    "          # layers.LeakyReLU(alpha=0.3),\n",
    "          layers.MaxPooling2D(pool_size=(2 , 2)),\n",
    "\n",
    "          layers.Conv2D(64, [3, 3], (1, 1), 'valid'),\n",
    "          layers.Activation('tanh'),\n",
    "          # layers.LeakyReLU(alpha=0.3),\n",
    "          layers.MaxPooling2D(pool_size=(2 , 2)),\n",
    "\n",
    "          layers.Conv2D(128, [3, 3], (1, 1), 'valid'),\n",
    "          layers.Activation('tanh'),\n",
    "          # layers.LeakyReLU(alpha=0.3),\n",
    "          layers.Flatten(),\n",
    "\n",
    "          layers.Dense(train_data.num_classes, activation='softmax')\n",
    "        ])\n",
    "    if (activation[id] == 1):\n",
    "        # CNN 2\n",
    "        model = tf.keras.Sequential([\n",
    "          layers.Conv2D(32, [3, 3], (1, 1), 'valid', input_shape=(image_batch.shape[1], image_batch.shape[2], image_batch.shape[3])),\n",
    "          layers.Activation('relu'),\n",
    "          # layers.LeakyReLU(alpha=0.3),\n",
    "          layers.MaxPooling2D(pool_size=(2 , 2)),\n",
    "\n",
    "          layers.Conv2D(64, [3, 3], (1, 1), 'valid'),\n",
    "          layers.Activation('relu'),\n",
    "          # layers.LeakyReLU(alpha=0.3),\n",
    "          layers.MaxPooling2D(pool_size=(2 , 2)),\n",
    "\n",
    "          layers.Conv2D(128, [3, 3], (1, 1), 'valid'),\n",
    "          layers.Activation('relu'),\n",
    "          # layers.LeakyReLU(alpha=0.3),\n",
    "          layers.Flatten(),\n",
    "\n",
    "          layers.Dense(train_data.num_classes, activation='softmax')\n",
    "        ])\n",
    "    if (activation[id] == 2):\n",
    "        # CNN 2\n",
    "        model = tf.keras.Sequential([\n",
    "          layers.Conv2D(32, [3, 3], (1, 1), 'valid', input_shape=(image_batch.shape[1], image_batch.shape[2], image_batch.shape[3])),\n",
    "          # layers.Activation('relu'),\n",
    "          layers.LeakyReLU(alpha=0.3),\n",
    "          layers.MaxPooling2D(pool_size=(2 , 2)),\n",
    "\n",
    "          layers.Conv2D(64, [3, 3], (1, 1), 'valid'),\n",
    "          # layers.Activation('relu'),\n",
    "          layers.LeakyReLU(alpha=0.3),\n",
    "          layers.MaxPooling2D(pool_size=(2 , 2)),\n",
    "\n",
    "          layers.Conv2D(128, [3, 3], (1, 1), 'valid'),\n",
    "          # layers.Activation('relu'),\n",
    "          layers.LeakyReLU(alpha=0.3),\n",
    "          layers.Flatten(),\n",
    "\n",
    "          layers.Dense(train_data.num_classes, activation='softmax')\n",
    "        ])\n",
    "    model.compile(\n",
    "        optimizer=tf.train.AdamOptimizer(), \n",
    "        loss=lossF[id],\n",
    "        metrics=['accuracy'])\n",
    "    \n",
    "    batch_stats = CollectBatchStats()\n",
    "    model.fit_generator(train_data, epochs=4, \n",
    "        callbacks = [batch_stats],\n",
    "        validation_data = validation_data)\n",
    "    \n",
    "    results = pd.DataFrame({\"losses\":batch_stats.batch_losses, \"accuracy\":batch_stats.batch_acc})\n",
    "    results.to_csv(\"saved_results/cnn\"+saveName[id]+\"Data.csv\", ',')\n",
    "    results = pd.DataFrame({\"losses\":batch_stats.epoch_val_loss, \"accuracy\":batch_stats.epoch_val_acc})\n",
    "    results.to_csv(\"saved_results/cnn\"+saveName[id]+\"ValData.csv\", ',')"
   ]
  },
  {
   "cell_type": "code",
   "execution_count": 1,
   "metadata": {},
   "outputs": [
    {
     "ename": "NameError",
     "evalue": "name 'pd' is not defined",
     "output_type": "error",
     "traceback": [
      "\u001b[0;31m---------------------------------------------------------------------------\u001b[0m",
      "\u001b[0;31mNameError\u001b[0m                                 Traceback (most recent call last)",
      "\u001b[0;32m<ipython-input-1-f50492ab910c>\u001b[0m in \u001b[0;36m<module>\u001b[0;34m\u001b[0m\n\u001b[0;32m----> 1\u001b[0;31m \u001b[0mresults\u001b[0m \u001b[0;34m=\u001b[0m \u001b[0mpd\u001b[0m\u001b[0;34m.\u001b[0m\u001b[0mDataFrame\u001b[0m\u001b[0;34m(\u001b[0m\u001b[0;34m{\u001b[0m\u001b[0;34m\"losses\"\u001b[0m\u001b[0;34m:\u001b[0m\u001b[0mbatch_stats\u001b[0m\u001b[0;34m.\u001b[0m\u001b[0mbatch_losses\u001b[0m\u001b[0;34m,\u001b[0m \u001b[0;34m\"accuracy\"\u001b[0m\u001b[0;34m:\u001b[0m\u001b[0mbatch_stats\u001b[0m\u001b[0;34m.\u001b[0m\u001b[0mbatch_acc\u001b[0m\u001b[0;34m}\u001b[0m\u001b[0;34m)\u001b[0m\u001b[0;34m\u001b[0m\u001b[0;34m\u001b[0m\u001b[0m\n\u001b[0m\u001b[1;32m      2\u001b[0m \u001b[0mresults\u001b[0m\u001b[0;34m.\u001b[0m\u001b[0mto_csv\u001b[0m\u001b[0;34m(\u001b[0m\u001b[0;34m\"saved_results/cnn\"\u001b[0m\u001b[0;34m+\u001b[0m\u001b[0msaveName\u001b[0m\u001b[0;34m[\u001b[0m\u001b[0mid\u001b[0m\u001b[0;34m]\u001b[0m\u001b[0;34m+\u001b[0m\u001b[0;34m\"Data.csv\"\u001b[0m\u001b[0;34m,\u001b[0m \u001b[0;34m','\u001b[0m\u001b[0;34m)\u001b[0m\u001b[0;34m\u001b[0m\u001b[0;34m\u001b[0m\u001b[0m\n\u001b[1;32m      3\u001b[0m \u001b[0mresults\u001b[0m \u001b[0;34m=\u001b[0m \u001b[0mpd\u001b[0m\u001b[0;34m.\u001b[0m\u001b[0mDataFrame\u001b[0m\u001b[0;34m(\u001b[0m\u001b[0;34m{\u001b[0m\u001b[0;34m\"losses\"\u001b[0m\u001b[0;34m:\u001b[0m\u001b[0mbatch_stats\u001b[0m\u001b[0;34m.\u001b[0m\u001b[0mepoch_val_loss\u001b[0m\u001b[0;34m,\u001b[0m \u001b[0;34m\"accuracy\"\u001b[0m\u001b[0;34m:\u001b[0m\u001b[0mbatch_stats\u001b[0m\u001b[0;34m.\u001b[0m\u001b[0mepoch_val_acc\u001b[0m\u001b[0;34m}\u001b[0m\u001b[0;34m)\u001b[0m\u001b[0;34m\u001b[0m\u001b[0;34m\u001b[0m\u001b[0m\n\u001b[1;32m      4\u001b[0m \u001b[0mresults\u001b[0m\u001b[0;34m.\u001b[0m\u001b[0mto_csv\u001b[0m\u001b[0;34m(\u001b[0m\u001b[0;34m\"saved_results/cnn\"\u001b[0m\u001b[0;34m+\u001b[0m\u001b[0msaveName\u001b[0m\u001b[0;34m[\u001b[0m\u001b[0mid\u001b[0m\u001b[0;34m]\u001b[0m\u001b[0;34m+\u001b[0m\u001b[0;34m\"ValData.csv\"\u001b[0m\u001b[0;34m,\u001b[0m \u001b[0;34m','\u001b[0m\u001b[0;34m)\u001b[0m\u001b[0;34m\u001b[0m\u001b[0;34m\u001b[0m\u001b[0m\n",
      "\u001b[0;31mNameError\u001b[0m: name 'pd' is not defined"
     ]
    }
   ],
   "source": [
    "results = pd.DataFrame({\"losses\":batch_stats.batch_losses, \"accuracy\":batch_stats.batch_acc})\n",
    "results.to_csv(\"saved_results/cnn\"+saveName[id]+\"Data.csv\", ',')\n",
    "results = pd.DataFrame({\"losses\":batch_stats.epoch_val_loss, \"accuracy\":batch_stats.epoch_val_acc})\n",
    "results.to_csv(\"saved_results/cnn\"+saveName[id]+\"ValData.csv\", ',')"
   ]
  },
  {
   "cell_type": "code",
   "execution_count": null,
   "metadata": {},
   "outputs": [],
   "source": []
  }
 ],
 "metadata": {
  "kernelspec": {
   "display_name": "Python 3",
   "language": "python",
   "name": "python3"
  },
  "language_info": {
   "codemirror_mode": {
    "name": "ipython",
    "version": 3
   },
   "file_extension": ".py",
   "mimetype": "text/x-python",
   "name": "python",
   "nbconvert_exporter": "python",
   "pygments_lexer": "ipython3",
   "version": "3.7.3"
  }
 },
 "nbformat": 4,
 "nbformat_minor": 2
}
